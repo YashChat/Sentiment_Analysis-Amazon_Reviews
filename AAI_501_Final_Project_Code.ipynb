{
 "cells": [
  {
   "cell_type": "markdown",
   "id": "b5a5aacf",
   "metadata": {
    "id": "b5a5aacf"
   },
   "source": [
    "#### Import the necessary libraries:"
   ]
  },
  {
   "cell_type": "code",
   "execution_count": 1,
   "id": "eebd4b29",
   "metadata": {
    "id": "eebd4b29"
   },
   "outputs": [],
   "source": [
    "import json\n",
    "import pandas as pd\n",
    "import numpy as np\n",
    "import matplotlib.pyplot as plt\n",
    "import seaborn as sns\n",
    "import nltk\n",
    "from nltk.corpus import stopwords\n",
    "from nltk.stem import SnowballStemmer"
   ]
  },
  {
   "cell_type": "code",
   "execution_count": 2,
   "id": "ae2e4db4",
   "metadata": {
    "colab": {
     "base_uri": "https://localhost:8080/"
    },
    "id": "ae2e4db4",
    "outputId": "342bcb70-442b-4c77-a004-1b6b5a5d105e"
   },
   "outputs": [
    {
     "name": "stderr",
     "output_type": "stream",
     "text": [
      "/var/folders/h3/hp4yzh5d653_kdnmty9h8g8r0000gq/T/ipykernel_48640/2483982637.py:2: DtypeWarning: Columns (7) have mixed types. Specify dtype option on import or set low_memory=False.\n",
      "  df_reviews = pd.read_csv('amazon_reviews_us_Home_Improvement.tsv', sep='\\t', usecols=range(15))\n"
     ]
    }
   ],
   "source": [
    "# Read the TSV file into a DataFrame, selecting only the first 15 columns\n",
    "df_reviews = pd.read_csv('amazon_reviews_us_Home_Improvement.tsv', sep='\\t', usecols=range(15))"
   ]
  },
  {
   "cell_type": "code",
   "execution_count": 3,
   "id": "03c2dc52",
   "metadata": {
    "colab": {
     "base_uri": "https://localhost:8080/",
     "height": 548
    },
    "id": "03c2dc52",
    "outputId": "603f5063-3d32-498f-a87d-d70fd6cb6f07"
   },
   "outputs": [
    {
     "data": {
      "text/html": [
       "<div>\n",
       "<style scoped>\n",
       "    .dataframe tbody tr th:only-of-type {\n",
       "        vertical-align: middle;\n",
       "    }\n",
       "\n",
       "    .dataframe tbody tr th {\n",
       "        vertical-align: top;\n",
       "    }\n",
       "\n",
       "    .dataframe thead th {\n",
       "        text-align: right;\n",
       "    }\n",
       "</style>\n",
       "<table border=\"1\" class=\"dataframe\">\n",
       "  <thead>\n",
       "    <tr style=\"text-align: right;\">\n",
       "      <th></th>\n",
       "      <th>marketplace</th>\n",
       "      <th>customer_id</th>\n",
       "      <th>review_id</th>\n",
       "      <th>product_id</th>\n",
       "      <th>product_parent</th>\n",
       "      <th>product_title</th>\n",
       "      <th>product_category</th>\n",
       "      <th>star_rating</th>\n",
       "      <th>helpful_votes</th>\n",
       "      <th>total_votes</th>\n",
       "      <th>vine</th>\n",
       "      <th>verified_purchase</th>\n",
       "      <th>review_headline</th>\n",
       "      <th>review_body</th>\n",
       "      <th>review_date</th>\n",
       "    </tr>\n",
       "  </thead>\n",
       "  <tbody>\n",
       "    <tr>\n",
       "      <th>0</th>\n",
       "      <td>US</td>\n",
       "      <td>48881148</td>\n",
       "      <td>R215C9BDXTDQOW</td>\n",
       "      <td>B00FR4YQYK</td>\n",
       "      <td>381800308</td>\n",
       "      <td>SadoTech Model C Wireless Doorbell Operating a...</td>\n",
       "      <td>Home Improvement</td>\n",
       "      <td>4</td>\n",
       "      <td>0.0</td>\n",
       "      <td>0.0</td>\n",
       "      <td>N</td>\n",
       "      <td>Y</td>\n",
       "      <td>Four Stars</td>\n",
       "      <td>good product</td>\n",
       "      <td>2015-08-31</td>\n",
       "    </tr>\n",
       "    <tr>\n",
       "      <th>1</th>\n",
       "      <td>US</td>\n",
       "      <td>47882936</td>\n",
       "      <td>R1DTPUV1J57YHA</td>\n",
       "      <td>B00439MYYE</td>\n",
       "      <td>921341748</td>\n",
       "      <td>iSpring T32M 3.2 Gallon Residential Pressurize...</td>\n",
       "      <td>Home Improvement</td>\n",
       "      <td>5</td>\n",
       "      <td>0.0</td>\n",
       "      <td>0.0</td>\n",
       "      <td>N</td>\n",
       "      <td>Y</td>\n",
       "      <td>Good price, quick shipment</td>\n",
       "      <td>Good price, quick shipment. Adequate packaging...</td>\n",
       "      <td>2015-08-31</td>\n",
       "    </tr>\n",
       "    <tr>\n",
       "      <th>2</th>\n",
       "      <td>US</td>\n",
       "      <td>44435471</td>\n",
       "      <td>RFAZK5EWKJWOU</td>\n",
       "      <td>B00002N762</td>\n",
       "      <td>56053291</td>\n",
       "      <td>Schlage F10CS V ELA 626 Elan Light Commercial ...</td>\n",
       "      <td>Home Improvement</td>\n",
       "      <td>5</td>\n",
       "      <td>0.0</td>\n",
       "      <td>0.0</td>\n",
       "      <td>N</td>\n",
       "      <td>Y</td>\n",
       "      <td>Five Stars</td>\n",
       "      <td>Excellent...!</td>\n",
       "      <td>2015-08-31</td>\n",
       "    </tr>\n",
       "    <tr>\n",
       "      <th>3</th>\n",
       "      <td>US</td>\n",
       "      <td>28377689</td>\n",
       "      <td>R2XT8X0O0WS1AL</td>\n",
       "      <td>B000QFCP1G</td>\n",
       "      <td>595928517</td>\n",
       "      <td>Citri-Strip QCG731 Paint and Varnish Stripping...</td>\n",
       "      <td>Home Improvement</td>\n",
       "      <td>5</td>\n",
       "      <td>0.0</td>\n",
       "      <td>0.0</td>\n",
       "      <td>N</td>\n",
       "      <td>Y</td>\n",
       "      <td>Although *slightly* stronger paint removers ca...</td>\n",
       "      <td>Although *slightly* stronger paint removers ca...</td>\n",
       "      <td>2015-08-31</td>\n",
       "    </tr>\n",
       "    <tr>\n",
       "      <th>4</th>\n",
       "      <td>US</td>\n",
       "      <td>50134766</td>\n",
       "      <td>R14GRNANKO2Y2J</td>\n",
       "      <td>B00WRCRKOI</td>\n",
       "      <td>417053744</td>\n",
       "      <td>SleekLighting Bulb Adapters / Converts Standar...</td>\n",
       "      <td>Home Improvement</td>\n",
       "      <td>5</td>\n",
       "      <td>0.0</td>\n",
       "      <td>0.0</td>\n",
       "      <td>N</td>\n",
       "      <td>Y</td>\n",
       "      <td>Great Adapters</td>\n",
       "      <td>These adapters are well made and easy to use. ...</td>\n",
       "      <td>2015-08-31</td>\n",
       "    </tr>\n",
       "  </tbody>\n",
       "</table>\n",
       "</div>"
      ],
      "text/plain": [
       "  marketplace  customer_id       review_id  product_id  product_parent  \\\n",
       "0          US     48881148  R215C9BDXTDQOW  B00FR4YQYK       381800308   \n",
       "1          US     47882936  R1DTPUV1J57YHA  B00439MYYE       921341748   \n",
       "2          US     44435471   RFAZK5EWKJWOU  B00002N762        56053291   \n",
       "3          US     28377689  R2XT8X0O0WS1AL  B000QFCP1G       595928517   \n",
       "4          US     50134766  R14GRNANKO2Y2J  B00WRCRKOI       417053744   \n",
       "\n",
       "                                       product_title  product_category  \\\n",
       "0  SadoTech Model C Wireless Doorbell Operating a...  Home Improvement   \n",
       "1  iSpring T32M 3.2 Gallon Residential Pressurize...  Home Improvement   \n",
       "2  Schlage F10CS V ELA 626 Elan Light Commercial ...  Home Improvement   \n",
       "3  Citri-Strip QCG731 Paint and Varnish Stripping...  Home Improvement   \n",
       "4  SleekLighting Bulb Adapters / Converts Standar...  Home Improvement   \n",
       "\n",
       "  star_rating  helpful_votes  total_votes vine verified_purchase  \\\n",
       "0           4            0.0          0.0    N                 Y   \n",
       "1           5            0.0          0.0    N                 Y   \n",
       "2           5            0.0          0.0    N                 Y   \n",
       "3           5            0.0          0.0    N                 Y   \n",
       "4           5            0.0          0.0    N                 Y   \n",
       "\n",
       "                                     review_headline  \\\n",
       "0                                         Four Stars   \n",
       "1                         Good price, quick shipment   \n",
       "2                                         Five Stars   \n",
       "3  Although *slightly* stronger paint removers ca...   \n",
       "4                                     Great Adapters   \n",
       "\n",
       "                                         review_body review_date  \n",
       "0                                       good product  2015-08-31  \n",
       "1  Good price, quick shipment. Adequate packaging...  2015-08-31  \n",
       "2                                      Excellent...!  2015-08-31  \n",
       "3  Although *slightly* stronger paint removers ca...  2015-08-31  \n",
       "4  These adapters are well made and easy to use. ...  2015-08-31  "
      ]
     },
     "execution_count": 3,
     "metadata": {},
     "output_type": "execute_result"
    }
   ],
   "source": [
    "df_reviews.head(5)"
   ]
  },
  {
   "cell_type": "code",
   "execution_count": 5,
   "id": "b2488076",
   "metadata": {
    "colab": {
     "base_uri": "https://localhost:8080/"
    },
    "id": "b2488076",
    "outputId": "706b8942-5a8d-4673-d0a8-e03263343167"
   },
   "outputs": [
    {
     "name": "stdout",
     "output_type": "stream",
     "text": [
      "        review_id                                        review_body  \\\n",
      "0  R215C9BDXTDQOW                                       good product   \n",
      "1  R1DTPUV1J57YHA  Good price, quick shipment. Adequate packaging...   \n",
      "2   RFAZK5EWKJWOU                                      Excellent...!   \n",
      "3  R2XT8X0O0WS1AL  Although *slightly* stronger paint removers ca...   \n",
      "4  R14GRNANKO2Y2J  These adapters are well made and easy to use. ...   \n",
      "\n",
      "  star_rating verified_purchase  \n",
      "0           4                 Y  \n",
      "1           5                 Y  \n",
      "2           5                 Y  \n",
      "3           5                 Y  \n",
      "4           5                 Y  \n"
     ]
    }
   ],
   "source": [
    "# Read in the TSV file, selecting only relevant columns\n",
    "df_reviews_filter = df_reviews[['review_id', 'review_body', 'star_rating', 'verified_purchase']]\n",
    "\n",
    "# Display the first few rows of the resulting DataFrame\n",
    "print(df_reviews_filter.head(5))"
   ]
  },
  {
   "cell_type": "markdown",
   "id": "38e219ac",
   "metadata": {
    "id": "38e219ac"
   },
   "source": [
    "Looking the data types of the columns and overall summary."
   ]
  },
  {
   "cell_type": "code",
   "execution_count": 5,
   "id": "e8f3694b",
   "metadata": {
    "colab": {
     "base_uri": "https://localhost:8080/"
    },
    "id": "e8f3694b",
    "outputId": "72045032-bd98-4f9f-b5c7-3081e02dcb91"
   },
   "outputs": [
    {
     "name": "stdout",
     "output_type": "stream",
     "text": [
      "<class 'pandas.core.frame.DataFrame'>\n",
      "RangeIndex: 2629959 entries, 0 to 2629958\n",
      "Data columns (total 4 columns):\n",
      " #   Column             Dtype \n",
      "---  ------             ----- \n",
      " 0   review_id          object\n",
      " 1   review_body        object\n",
      " 2   star_rating        object\n",
      " 3   verified_purchase  object\n",
      "dtypes: object(4)\n",
      "memory usage: 80.3+ MB\n"
     ]
    }
   ],
   "source": [
    "df_reviews_filter.info()"
   ]
  },
  {
   "cell_type": "markdown",
   "id": "bc2f0a31",
   "metadata": {
    "id": "bc2f0a31"
   },
   "source": [
    "## Data Cleaning"
   ]
  },
  {
   "cell_type": "markdown",
   "id": "b1004e1c",
   "metadata": {
    "id": "b1004e1c"
   },
   "source": [
    "### Nulls, NaN's, Missing values, Erroneous Data, Duplicate Rows, Matching datatypes"
   ]
  },
  {
   "cell_type": "markdown",
   "id": "0aec9de7",
   "metadata": {
    "id": "0aec9de7"
   },
   "source": [
    "1) We remove any rows that contain missing or null values using the dropna() method of the DataFrame.\n",
    "2) We remove any duplicate rows based on the review_id column using the drop_duplicates() method of the DataFrame.\n",
    "3) We remove any rows that contain irrelevant or erroneous data. In this case, we keep only the rows that have a star_rating value between 1 and 5, and a verified_purchase value of either 'Y' or 'N'.\n",
    "4) We convert the verified_purchase column to a boolean data type by mapping 'Y' to True and 'N' to False, and the review_body column to a string data type using the astype() method of the DataFrame. We also see inconsistent values in the column ‘star_rating’ and therefore to fix this inconsistency in star_rating column, we use the astype() method to convert the column to integer type."
   ]
  },
  {
   "cell_type": "code",
   "execution_count": 6,
   "id": "c5fa3ea7",
   "metadata": {
    "colab": {
     "base_uri": "https://localhost:8080/"
    },
    "id": "c5fa3ea7",
    "outputId": "374bcd42-d83c-4032-d4ba-de0752fe8f0a"
   },
   "outputs": [
    {
     "name": "stderr",
     "output_type": "stream",
     "text": [
      "/var/folders/h3/hp4yzh5d653_kdnmty9h8g8r0000gq/T/ipykernel_48640/2249281724.py:2: SettingWithCopyWarning: \n",
      "A value is trying to be set on a copy of a slice from a DataFrame\n",
      "\n",
      "See the caveats in the documentation: https://pandas.pydata.org/pandas-docs/stable/user_guide/indexing.html#returning-a-view-versus-a-copy\n",
      "  df_reviews_filter.dropna(inplace=True)\n",
      "/var/folders/h3/hp4yzh5d653_kdnmty9h8g8r0000gq/T/ipykernel_48640/2249281724.py:5: SettingWithCopyWarning: \n",
      "A value is trying to be set on a copy of a slice from a DataFrame\n",
      "\n",
      "See the caveats in the documentation: https://pandas.pydata.org/pandas-docs/stable/user_guide/indexing.html#returning-a-view-versus-a-copy\n",
      "  df_reviews_filter.drop_duplicates(subset='review_id', inplace=True)\n"
     ]
    }
   ],
   "source": [
    "# Remove missing or null values\n",
    "df_reviews_filter.dropna(inplace=True)\n",
    "\n",
    "# Remove duplicates\n",
    "df_reviews_filter.drop_duplicates(subset='review_id', inplace=True)\n",
    "\n",
    "# Remove irrelevant or erroneous data\n",
    "df_reviews_filter = df_reviews_filter[df_reviews_filter['star_rating'].isin([1, 2, 3, 4, 5])]\n",
    "df_reviews_filter = df_reviews_filter[df_reviews_filter['verified_purchase'].isin(['Y', 'N'])]\n",
    "\n",
    "# Convert relevant columns to the correct data types\n",
    "df_reviews_filter['verified_purchase'] = df_reviews_filter['verified_purchase'].map({'Y': True, 'N': False})\n",
    "df_reviews_filter['review_body'] = df_reviews_filter['review_body'].astype(str)\n",
    "df_reviews_filter['star_rating'] = df_reviews_filter['star_rating'].astype(int)"
   ]
  },
  {
   "cell_type": "markdown",
   "id": "acb452bf",
   "metadata": {
    "id": "acb452bf"
   },
   "source": [
    "To make the computations faster, and spend less computing power, we will also just work with 100000 records sampled randomly. To reproduce the same result, we will assign a random_seed = ‘42’. Though we can apply all the same techniques and models on the full dataset."
   ]
  },
  {
   "cell_type": "code",
   "execution_count": 7,
   "id": "fe68047e",
   "metadata": {
    "id": "fe68047e"
   },
   "outputs": [],
   "source": [
    "df_reviews_filter = df_reviews_filter.sample(n=100000, random_state=42)"
   ]
  },
  {
   "cell_type": "markdown",
   "id": "48ee275f",
   "metadata": {
    "id": "48ee275f"
   },
   "source": [
    "Making sure, that we did lose some entries as we cleaned the data and that the datatypes are as intended."
   ]
  },
  {
   "cell_type": "code",
   "execution_count": 8,
   "id": "f345a4f8",
   "metadata": {
    "colab": {
     "base_uri": "https://localhost:8080/"
    },
    "id": "f345a4f8",
    "outputId": "2092f7ea-2443-47f6-f24c-67a3cda42477"
   },
   "outputs": [
    {
     "name": "stdout",
     "output_type": "stream",
     "text": [
      "<class 'pandas.core.frame.DataFrame'>\n",
      "Int64Index: 100000 entries, 590890 to 836738\n",
      "Data columns (total 4 columns):\n",
      " #   Column             Non-Null Count   Dtype \n",
      "---  ------             --------------   ----- \n",
      " 0   review_id          100000 non-null  object\n",
      " 1   review_body        100000 non-null  object\n",
      " 2   star_rating        100000 non-null  int64 \n",
      " 3   verified_purchase  100000 non-null  bool  \n",
      "dtypes: bool(1), int64(1), object(2)\n",
      "memory usage: 3.1+ MB\n"
     ]
    }
   ],
   "source": [
    "df_reviews_filter.info()"
   ]
  },
  {
   "cell_type": "markdown",
   "id": "0b9634e2",
   "metadata": {
    "id": "0b9634e2"
   },
   "source": [
    "### Tokenization and Stemming"
   ]
  },
  {
   "cell_type": "code",
   "execution_count": 9,
   "id": "ec3eee26",
   "metadata": {
    "colab": {
     "base_uri": "https://localhost:8080/"
    },
    "id": "ec3eee26",
    "outputId": "d11109c1-6d1b-4abe-a1dd-72e115fec26f"
   },
   "outputs": [
    {
     "name": "stderr",
     "output_type": "stream",
     "text": [
      "[nltk_data] Downloading package punkt to\n",
      "[nltk_data]     /Users/yash.chaturvedi/nltk_data...\n",
      "[nltk_data]   Package punkt is already up-to-date!\n",
      "[nltk_data] Downloading package stopwords to\n",
      "[nltk_data]     /Users/yash.chaturvedi/nltk_data...\n",
      "[nltk_data]   Package stopwords is already up-to-date!\n",
      "[nltk_data] Downloading package wordnet to\n",
      "[nltk_data]     /Users/yash.chaturvedi/nltk_data...\n",
      "[nltk_data]   Package wordnet is already up-to-date!\n"
     ]
    }
   ],
   "source": [
    "from nltk.stem import WordNetLemmatizer\n",
    "nltk.download('punkt')\n",
    "# Download stopwords and initialize stemmer\n",
    "nltk.download('stopwords')\n",
    "nltk.download('wordnet')\n",
    "stemmer = SnowballStemmer('english')\n",
    "lemmatizer = WordNetLemmatizer()"
   ]
  },
  {
   "cell_type": "markdown",
   "id": "fb94f730",
   "metadata": {
    "id": "fb94f730"
   },
   "source": [
    "We will call this data preprocessing method involving tokenization and removal of stop words whenever we want to depending on our model."
   ]
  },
  {
   "cell_type": "code",
   "execution_count": 10,
   "id": "b3e3994d",
   "metadata": {
    "id": "b3e3994d"
   },
   "outputs": [],
   "source": [
    "# Define a function to preprocess text\n",
    "def preprocess_text(text):\n",
    "    # Tokenize text into words\n",
    "    words = nltk.word_tokenize(text)\n",
    "    # Remove non-alphabetic characters and stopwords\n",
    "    words = [word.lower() for word in words if word.isalpha() and word.lower() not in stopwords.words('english')]\n",
    "    # Lemmatize words\n",
    "    words = [lemmatizer.lemmatize(word) for word in words]\n",
    "    # Join words back into a string\n",
    "    return ' '.join(words)"
   ]
  },
  {
   "cell_type": "markdown",
   "id": "60ed13a5",
   "metadata": {
    "id": "60ed13a5"
   },
   "source": [
    "## Exploratory Data Analysis"
   ]
  },
  {
   "cell_type": "markdown",
   "id": "f02f6ef0",
   "metadata": {
    "id": "f02f6ef0"
   },
   "source": [
    "To plot the star rating for verified purchase vs non verified purchases we use the groupby() method to group the dataFrame by the verified_purchase column and calculate the mean of the star_rating column for each group. Then, you can plot the mean star ratings using a bar plot."
   ]
  },
  {
   "cell_type": "code",
   "execution_count": 19,
   "id": "6d16d887",
   "metadata": {
    "colab": {
     "base_uri": "https://localhost:8080/",
     "height": 472
    },
    "id": "6d16d887",
    "outputId": "02ec4659-bfdd-4342-9b26-34ce05117567"
   },
   "outputs": [
    {
     "data": {
      "image/png": "[encoded data removed]",
      "text/plain": [
       "<Figure size 640x480 with 1 Axes>"
      ]
     },
     "metadata": {},
     "output_type": "display_data"
    }
   ],
   "source": [
    "# Group the DataFrame by verified_purchase and calculate the mean star rating for each group\n",
    "df_grouped = df_reviews_filter.groupby('verified_purchase')['star_rating'].mean()\n",
    "\n",
    "# Plot the mean star rating for each group using a bar plot\n",
    "ax = df_grouped.plot(kind='bar')\n",
    "ax.set_xticklabels(['Non-Verified', 'Verified'], rotation=0)\n",
    "ax.set_xlabel('Verified Purchase')\n",
    "ax.set_ylabel('Mean Star Rating')\n",
    "ax.set_title('Mean Star Rating by Verified Purchase')\n",
    "plt.show()"
   ]
  },
  {
   "cell_type": "markdown",
   "id": "c27ecd43",
   "metadata": {
    "id": "c27ecd43"
   },
   "source": [
    "### Frequency Distribution"
   ]
  },
  {
   "cell_type": "markdown",
   "id": "d62c1af4",
   "metadata": {
    "id": "d62c1af4"
   },
   "source": [
    "Distribution of Star Ratings: Plotting the distribution of star ratings can provide insights into how customers rate the products in the given category. This can help identify trends, such as a higher proportion of 5-star ratings or a higher proportion of 1-star ratings."
   ]
  },
  {
   "cell_type": "code",
   "execution_count": 20,
   "id": "2d31399a",
   "metadata": {
    "colab": {
     "base_uri": "https://localhost:8080/",
     "height": 472
    },
    "id": "2d31399a",
    "outputId": "219942ad-f114-421d-ebdc-824912716da0"
   },
   "outputs": [
    {
     "data": {
      "image/png": "[encoded data removed]",
      "text/plain": [
       "<Figure size 640x480 with 1 Axes>"
      ]
     },
     "metadata": {},
     "output_type": "display_data"
    }
   ],
   "source": [
    "# group the reviews by star rating\n",
    "ratings = df_reviews_filter.groupby('star_rating').size()\n",
    "\n",
    "# plot the distribution of star ratings\n",
    "plt.bar(ratings.index, ratings.values)\n",
    "plt.xlabel('Star Rating')\n",
    "plt.ylabel('Number of Reviews')\n",
    "plt.title('Distribution of Star Ratings')\n",
    "plt.show()"
   ]
  },
  {
   "cell_type": "markdown",
   "id": "cc1881b7",
   "metadata": {
    "id": "cc1881b7"
   },
   "source": [
    "We also produce a box plot showing the distribution of star ratings for verified and non-verified purchases. The x-axis shows the two groups, and the y-axis shows the star ratings. The box plot displays the median (line in the box), the quartiles (box), and the outliers (dots outside the box) for each group."
   ]
  },
  {
   "cell_type": "code",
   "execution_count": 21,
   "id": "eaa17258",
   "metadata": {
    "colab": {
     "base_uri": "https://localhost:8080/",
     "height": 478
    },
    "id": "eaa17258",
    "outputId": "e6b84bc9-c3e7-41e6-ec55-aaba5dcf490a"
   },
   "outputs": [
    {
     "data": {
      "image/png": "[encoded data removed]",
      "text/plain": [
       "<Figure size 640x480 with 1 Axes>"
      ]
     },
     "metadata": {},
     "output_type": "display_data"
    }
   ],
   "source": [
    "# Create a box plot of star ratings by verified purchase\n",
    "ax = df_reviews_filter.boxplot(column='star_rating', by='verified_purchase')\n",
    "ax.set_xlabel('Verified Purchase')\n",
    "ax.set_ylabel('Star Rating')\n",
    "ax.set_title('Distribution of Star Ratings by Verified Purchase')\n",
    "plt.show()"
   ]
  },
  {
   "cell_type": "markdown",
   "id": "3320d10e",
   "metadata": {
    "id": "3320d10e"
   },
   "source": [
    "### Language Models"
   ]
  },
  {
   "cell_type": "code",
   "execution_count": 11,
   "id": "13ed13c7",
   "metadata": {
    "id": "13ed13c7"
   },
   "outputs": [],
   "source": [
    "# Import necessary libraries\n",
    "from sklearn.feature_extraction.text import CountVectorizer\n",
    "from sklearn.model_selection import train_test_split\n",
    "from sklearn.naive_bayes import MultinomialNB\n",
    "from sklearn.metrics import accuracy_score\n",
    "from nltk.stem import WordNetLemmatizer"
   ]
  },
  {
   "cell_type": "markdown",
   "id": "17d017be",
   "metadata": {
    "id": "17d017be"
   },
   "source": [
    "### Bag-of-Words Model"
   ]
  },
  {
   "cell_type": "code",
   "execution_count": 12,
   "id": "40aa8f46",
   "metadata": {
    "id": "40aa8f46"
   },
   "outputs": [],
   "source": [
    "# Apply preprocessing to review_body column which performs tasks such as tokenization, stemming, and removal of stop words\n",
    "df_reviews_filter_preprocessed = df_reviews_filter\n",
    "df_reviews_filter_preprocessed['review_body'] = df_reviews_filter_preprocessed['review_body'].apply(preprocess_text)"
   ]
  },
  {
   "cell_type": "markdown",
   "id": "c3296f4d",
   "metadata": {
    "id": "c3296f4d"
   },
   "source": [
    "### Feature Selection"
   ]
  },
  {
   "cell_type": "markdown",
   "id": "467ebf5a",
   "metadata": {
    "id": "467ebf5a"
   },
   "source": [
    "We do feature selection where we create a vector for each review using term frequency - with a value of the number of occurrences of each word in the review. We limit the max number of features to 5000 limiting ourselves to a subset of the words as features. We also drop words that are very rare (and thus have high variance in their predictive powers), as well as words that are common to all classes (such as “the”) but don’t discriminate between classes."
   ]
  },
  {
   "cell_type": "markdown",
   "id": "a8feefe3",
   "metadata": {
    "id": "a8feefe3"
   },
   "source": [
    "We create a CountVectorizer object named vectorizer with the following parameters:\n",
    "\n",
    "max_features=5000: This sets the maximum number of features to be extracted to 5000, which means that only the 5000 most frequent words will be used to create the bag-of-words model.\n",
    "\n",
    "stop_words='english': This tells the vectorizer to remove all English stop words (such as \"the\", \"and\", \"a\", etc.) from the text data, as these words are generally not informative for text classification tasks.\n",
    "\n",
    "min_df=0.001: This sets the minimum document frequency to 0.001, which means that any word that appears in less than 0.1% of the documents will be excluded from the vocabulary.\n",
    "\n",
    "By passing these parameters to the CountVectorizer constructor, we are creating a bag-of-words model that is optimized for text classification tasks"
   ]
  },
  {
   "cell_type": "code",
   "execution_count": 13,
   "id": "f06d69e7",
   "metadata": {
    "id": "f06d69e7"
   },
   "outputs": [],
   "source": [
    "# Create a vectorizer object with max_features=5000, stop_words='english', min_df=0.001.\n",
    "vectorizer = CountVectorizer(max_features=5000, stop_words = 'english', min_df = 0.001)"
   ]
  },
  {
   "cell_type": "markdown",
   "id": "c745de80",
   "metadata": {
    "id": "c745de80"
   },
   "source": [
    "We use the bag-of-words model to classify the reviews as positive or negative based on the star_rating column. We use the star_rating column to generate sentiment labels where ratings of 4 or 5 stars are considered positive and ratings of 1 to 3 stars are considered negative.\n"
   ]
  },
  {
   "cell_type": "code",
   "execution_count": 14,
   "id": "5e82e997",
   "metadata": {
    "id": "5e82e997"
   },
   "outputs": [],
   "source": [
    "# Define the feature and target variables\n",
    "X = df_reviews_filter_preprocessed['review_body']\n",
    "y = np.where(df_reviews_filter_preprocessed['star_rating'] >= 4, 'Positive', 'Negative')"
   ]
  },
  {
   "cell_type": "code",
   "execution_count": 15,
   "id": "27c42fae",
   "metadata": {
    "colab": {
     "base_uri": "https://localhost:8080/",
     "height": 75
    },
    "id": "27c42fae",
    "outputId": "eecba017-42e6-4481-bbde-dcd4756fc9d2"
   },
   "outputs": [
    {
     "data": {
      "text/html": [
       "<style>#sk-container-id-1 {color: black;background-color: white;}#sk-container-id-1 pre{padding: 0;}#sk-container-id-1 div.sk-toggleable {background-color: white;}#sk-container-id-1 label.sk-toggleable__label {cursor: pointer;display: block;width: 100%;margin-bottom: 0;padding: 0.3em;box-sizing: border-box;text-align: center;}#sk-container-id-1 label.sk-toggleable__label-arrow:before {content: \"▸\";float: left;margin-right: 0.25em;color: #696969;}#sk-container-id-1 label.sk-toggleable__label-arrow:hover:before {color: black;}#sk-container-id-1 div.sk-estimator:hover label.sk-toggleable__label-arrow:before {color: black;}#sk-container-id-1 div.sk-toggleable__content {max-height: 0;max-width: 0;overflow: hidden;text-align: left;background-color: #f0f8ff;}#sk-container-id-1 div.sk-toggleable__content pre {margin: 0.2em;color: black;border-radius: 0.25em;background-color: #f0f8ff;}#sk-container-id-1 input.sk-toggleable__control:checked~div.sk-toggleable__content {max-height: 200px;max-width: 100%;overflow: auto;}#sk-container-id-1 input.sk-toggleable__control:checked~label.sk-toggleable__label-arrow:before {content: \"▾\";}#sk-container-id-1 div.sk-estimator input.sk-toggleable__control:checked~label.sk-toggleable__label {background-color: #d4ebff;}#sk-container-id-1 div.sk-label input.sk-toggleable__control:checked~label.sk-toggleable__label {background-color: #d4ebff;}#sk-container-id-1 input.sk-hidden--visually {border: 0;clip: rect(1px 1px 1px 1px);clip: rect(1px, 1px, 1px, 1px);height: 1px;margin: -1px;overflow: hidden;padding: 0;position: absolute;width: 1px;}#sk-container-id-1 div.sk-estimator {font-family: monospace;background-color: #f0f8ff;border: 1px dotted black;border-radius: 0.25em;box-sizing: border-box;margin-bottom: 0.5em;}#sk-container-id-1 div.sk-estimator:hover {background-color: #d4ebff;}#sk-container-id-1 div.sk-parallel-item::after {content: \"\";width: 100%;border-bottom: 1px solid gray;flex-grow: 1;}#sk-container-id-1 div.sk-label:hover label.sk-toggleable__label {background-color: #d4ebff;}#sk-container-id-1 div.sk-serial::before {content: \"\";position: absolute;border-left: 1px solid gray;box-sizing: border-box;top: 0;bottom: 0;left: 50%;z-index: 0;}#sk-container-id-1 div.sk-serial {display: flex;flex-direction: column;align-items: center;background-color: white;padding-right: 0.2em;padding-left: 0.2em;position: relative;}#sk-container-id-1 div.sk-item {position: relative;z-index: 1;}#sk-container-id-1 div.sk-parallel {display: flex;align-items: stretch;justify-content: center;background-color: white;position: relative;}#sk-container-id-1 div.sk-item::before, #sk-container-id-1 div.sk-parallel-item::before {content: \"\";position: absolute;border-left: 1px solid gray;box-sizing: border-box;top: 0;bottom: 0;left: 50%;z-index: -1;}#sk-container-id-1 div.sk-parallel-item {display: flex;flex-direction: column;z-index: 1;position: relative;background-color: white;}#sk-container-id-1 div.sk-parallel-item:first-child::after {align-self: flex-end;width: 50%;}#sk-container-id-1 div.sk-parallel-item:last-child::after {align-self: flex-start;width: 50%;}#sk-container-id-1 div.sk-parallel-item:only-child::after {width: 0;}#sk-container-id-1 div.sk-dashed-wrapped {border: 1px dashed gray;margin: 0 0.4em 0.5em 0.4em;box-sizing: border-box;padding-bottom: 0.4em;background-color: white;}#sk-container-id-1 div.sk-label label {font-family: monospace;font-weight: bold;display: inline-block;line-height: 1.2em;}#sk-container-id-1 div.sk-label-container {text-align: center;}#sk-container-id-1 div.sk-container {/* jupyter's `normalize.less` sets `[hidden] { display: none; }` but bootstrap.min.css set `[hidden] { display: none !important; }` so we also need the `!important` here to be able to override the default hidden behavior on the sphinx rendered scikit-learn.org. See: https://github.com/scikit-learn/scikit-learn/issues/21755 */display: inline-block !important;position: relative;}#sk-container-id-1 div.sk-text-repr-fallback {display: none;}</style><div id=\"sk-container-id-1\" class=\"sk-top-container\"><div class=\"sk-text-repr-fallback\"><pre>CountVectorizer(max_features=5000, min_df=0.001, stop_words=&#x27;english&#x27;)</pre><b>In a Jupyter environment, please rerun this cell to show the HTML representation or trust the notebook. <br />On GitHub, the HTML representation is unable to render, please try loading this page with nbviewer.org.</b></div><div class=\"sk-container\" hidden><div class=\"sk-item\"><div class=\"sk-estimator sk-toggleable\"><input class=\"sk-toggleable__control sk-hidden--visually\" id=\"sk-estimator-id-1\" type=\"checkbox\" checked><label for=\"sk-estimator-id-1\" class=\"sk-toggleable__label sk-toggleable__label-arrow\">CountVectorizer</label><div class=\"sk-toggleable__content\"><pre>CountVectorizer(max_features=5000, min_df=0.001, stop_words=&#x27;english&#x27;)</pre></div></div></div></div></div>"
      ],
      "text/plain": [
       "CountVectorizer(max_features=5000, min_df=0.001, stop_words='english')"
      ]
     },
     "execution_count": 15,
     "metadata": {},
     "output_type": "execute_result"
    }
   ],
   "source": [
    "# Fit the vectorizer on the preprocessed text\n",
    "vectorizer.fit(df_reviews_filter_preprocessed['review_body'])"
   ]
  },
  {
   "cell_type": "code",
   "execution_count": 16,
   "id": "fb7d3a6a",
   "metadata": {
    "id": "fb7d3a6a"
   },
   "outputs": [],
   "source": [
    "# Get the feature names (i.e., the words in the corpus)\n",
    "feature_names = list(vectorizer.vocabulary_.keys())"
   ]
  },
  {
   "cell_type": "code",
   "execution_count": 17,
   "id": "96465d61",
   "metadata": {
    "id": "96465d61"
   },
   "outputs": [],
   "source": [
    "# Get the document-term matrix (i.e., the bag-of-words representation)\n",
    "X = vectorizer.transform(df_reviews_filter_preprocessed['review_body'])"
   ]
  },
  {
   "cell_type": "markdown",
   "id": "d4b31bd5",
   "metadata": {
    "id": "d4b31bd5"
   },
   "source": [
    "We also drop words that are very rare (and thus have high variance in their predictive powers), as well as words that are common to all classes (such as “the”) but don’t discriminate between classes."
   ]
  },
  {
   "cell_type": "code",
   "execution_count": 18,
   "id": "e99ccf51",
   "metadata": {
    "colab": {
     "base_uri": "https://localhost:8080/"
    },
    "id": "e99ccf51",
    "outputId": "01220b5f-4e09-4ee7-b272-8d29ccd0be4c"
   },
   "outputs": [
    {
     "name": "stdout",
     "output_type": "stream",
     "text": [
      "Number of features: 637\n"
     ]
    }
   ],
   "source": [
    "# Drop words that are too rare or too common\n",
    "from sklearn.feature_selection import VarianceThreshold\n",
    "selector = VarianceThreshold(threshold = 0.01)\n",
    "X = selector.fit_transform(X)\n",
    "\n",
    "# Get the new feature names after dropping the irrelevant words\n",
    "feature_names = [feature_names[i] for i in selector.get_support(indices=True)]\n",
    "print('Number of features:', len(feature_names))"
   ]
  },
  {
   "cell_type": "code",
   "execution_count": 19,
   "id": "a9effe06",
   "metadata": {
    "id": "a9effe06"
   },
   "outputs": [],
   "source": [
    "from sklearn.model_selection import train_test_split\n",
    "from sklearn.metrics import accuracy_score, classification_report"
   ]
  },
  {
   "cell_type": "markdown",
   "id": "001502d2",
   "metadata": {
    "id": "001502d2"
   },
   "source": [
    "### Bag-of-Words - (Multinomial Naive Bayes)"
   ]
  },
  {
   "cell_type": "code",
   "execution_count": 20,
   "id": "aaec84a5",
   "metadata": {
    "id": "aaec84a5"
   },
   "outputs": [
    {
     "data": {
      "text/html": [
       "<style>#sk-container-id-2 {color: black;background-color: white;}#sk-container-id-2 pre{padding: 0;}#sk-container-id-2 div.sk-toggleable {background-color: white;}#sk-container-id-2 label.sk-toggleable__label {cursor: pointer;display: block;width: 100%;margin-bottom: 0;padding: 0.3em;box-sizing: border-box;text-align: center;}#sk-container-id-2 label.sk-toggleable__label-arrow:before {content: \"▸\";float: left;margin-right: 0.25em;color: #696969;}#sk-container-id-2 label.sk-toggleable__label-arrow:hover:before {color: black;}#sk-container-id-2 div.sk-estimator:hover label.sk-toggleable__label-arrow:before {color: black;}#sk-container-id-2 div.sk-toggleable__content {max-height: 0;max-width: 0;overflow: hidden;text-align: left;background-color: #f0f8ff;}#sk-container-id-2 div.sk-toggleable__content pre {margin: 0.2em;color: black;border-radius: 0.25em;background-color: #f0f8ff;}#sk-container-id-2 input.sk-toggleable__control:checked~div.sk-toggleable__content {max-height: 200px;max-width: 100%;overflow: auto;}#sk-container-id-2 input.sk-toggleable__control:checked~label.sk-toggleable__label-arrow:before {content: \"▾\";}#sk-container-id-2 div.sk-estimator input.sk-toggleable__control:checked~label.sk-toggleable__label {background-color: #d4ebff;}#sk-container-id-2 div.sk-label input.sk-toggleable__control:checked~label.sk-toggleable__label {background-color: #d4ebff;}#sk-container-id-2 input.sk-hidden--visually {border: 0;clip: rect(1px 1px 1px 1px);clip: rect(1px, 1px, 1px, 1px);height: 1px;margin: -1px;overflow: hidden;padding: 0;position: absolute;width: 1px;}#sk-container-id-2 div.sk-estimator {font-family: monospace;background-color: #f0f8ff;border: 1px dotted black;border-radius: 0.25em;box-sizing: border-box;margin-bottom: 0.5em;}#sk-container-id-2 div.sk-estimator:hover {background-color: #d4ebff;}#sk-container-id-2 div.sk-parallel-item::after {content: \"\";width: 100%;border-bottom: 1px solid gray;flex-grow: 1;}#sk-container-id-2 div.sk-label:hover label.sk-toggleable__label {background-color: #d4ebff;}#sk-container-id-2 div.sk-serial::before {content: \"\";position: absolute;border-left: 1px solid gray;box-sizing: border-box;top: 0;bottom: 0;left: 50%;z-index: 0;}#sk-container-id-2 div.sk-serial {display: flex;flex-direction: column;align-items: center;background-color: white;padding-right: 0.2em;padding-left: 0.2em;position: relative;}#sk-container-id-2 div.sk-item {position: relative;z-index: 1;}#sk-container-id-2 div.sk-parallel {display: flex;align-items: stretch;justify-content: center;background-color: white;position: relative;}#sk-container-id-2 div.sk-item::before, #sk-container-id-2 div.sk-parallel-item::before {content: \"\";position: absolute;border-left: 1px solid gray;box-sizing: border-box;top: 0;bottom: 0;left: 50%;z-index: -1;}#sk-container-id-2 div.sk-parallel-item {display: flex;flex-direction: column;z-index: 1;position: relative;background-color: white;}#sk-container-id-2 div.sk-parallel-item:first-child::after {align-self: flex-end;width: 50%;}#sk-container-id-2 div.sk-parallel-item:last-child::after {align-self: flex-start;width: 50%;}#sk-container-id-2 div.sk-parallel-item:only-child::after {width: 0;}#sk-container-id-2 div.sk-dashed-wrapped {border: 1px dashed gray;margin: 0 0.4em 0.5em 0.4em;box-sizing: border-box;padding-bottom: 0.4em;background-color: white;}#sk-container-id-2 div.sk-label label {font-family: monospace;font-weight: bold;display: inline-block;line-height: 1.2em;}#sk-container-id-2 div.sk-label-container {text-align: center;}#sk-container-id-2 div.sk-container {/* jupyter's `normalize.less` sets `[hidden] { display: none; }` but bootstrap.min.css set `[hidden] { display: none !important; }` so we also need the `!important` here to be able to override the default hidden behavior on the sphinx rendered scikit-learn.org. See: https://github.com/scikit-learn/scikit-learn/issues/21755 */display: inline-block !important;position: relative;}#sk-container-id-2 div.sk-text-repr-fallback {display: none;}</style><div id=\"sk-container-id-2\" class=\"sk-top-container\"><div class=\"sk-text-repr-fallback\"><pre>MultinomialNB()</pre><b>In a Jupyter environment, please rerun this cell to show the HTML representation or trust the notebook. <br />On GitHub, the HTML representation is unable to render, please try loading this page with nbviewer.org.</b></div><div class=\"sk-container\" hidden><div class=\"sk-item\"><div class=\"sk-estimator sk-toggleable\"><input class=\"sk-toggleable__control sk-hidden--visually\" id=\"sk-estimator-id-2\" type=\"checkbox\" checked><label for=\"sk-estimator-id-2\" class=\"sk-toggleable__label sk-toggleable__label-arrow\">MultinomialNB</label><div class=\"sk-toggleable__content\"><pre>MultinomialNB()</pre></div></div></div></div></div>"
      ],
      "text/plain": [
       "MultinomialNB()"
      ]
     },
     "execution_count": 20,
     "metadata": {},
     "output_type": "execute_result"
    }
   ],
   "source": [
    "# Split the data into training and testing sets\n",
    "X_train, X_test, y_train, y_test = train_test_split(X, df_reviews_filter_preprocessed['review_body'], test_size=0.2, random_state=42)\n",
    "\n",
    "# Train a classifier\n",
    "clf = MultinomialNB()\n",
    "clf.fit(X_train, y_train)"
   ]
  },
  {
   "cell_type": "code",
   "execution_count": 21,
   "id": "079b0a51",
   "metadata": {
    "id": "079b0a51"
   },
   "outputs": [
    {
     "name": "stdout",
     "output_type": "stream",
     "text": [
      "Accuracy: 0.03985\n"
     ]
    }
   ],
   "source": [
    "# Predicts the sentiment (positive or negative) for each review in the testing set.\n",
    "y_pred = clf.predict(X_test)\n",
    "\n",
    "# Calculates the accuracy of the classifier by comparing the predicted sentiments with the actual sentiments in y_test.\n",
    "print('Accuracy:', accuracy_score(y_test, y_pred))\n"
   ]
  },
  {
   "cell_type": "code",
   "execution_count": 22,
   "id": "eEnaJKkAK41b",
   "metadata": {
    "id": "eEnaJKkAK41b"
   },
   "outputs": [],
   "source": [
    "from sklearn.model_selection import cross_val_score"
   ]
  },
  {
   "cell_type": "code",
   "execution_count": 23,
   "id": "0dbe61f9",
   "metadata": {
    "id": "0dbe61f9"
   },
   "outputs": [
    {
     "name": "stdout",
     "output_type": "stream",
     "text": [
      "Cross-validation scores: [0.8337  0.84065 0.83285 0.82945 0.83675]\n",
      "Average score: 0.83468\n"
     ]
    }
   ],
   "source": [
    "# Perform 5-fold cross-validation\n",
    "cv_scores = cross_val_score(clf, X, y, cv=5)\n",
    "\n",
    "# Print the cross-validation scores\n",
    "print('Cross-validation scores:', cv_scores)\n",
    "print('Average score:', cv_scores.mean())"
   ]
  },
  {
   "cell_type": "markdown",
   "id": "c9b0c3e2",
   "metadata": {
    "id": "c9b0c3e2"
   },
   "source": [
    "### N-gram Word Model"
   ]
  },
  {
   "cell_type": "markdown",
   "id": "1da1b006",
   "metadata": {
    "id": "1da1b006"
   },
   "source": [
    "To implement an n-gram model, we can use the ngram_range parameter of the CountVectorizer class in scikit-learn. \n",
    "\n",
    "The ngram_range parameter takes a tuple with two values, n1 and n2, where n1 is the smallest n-gram to consider, and n2 is the largest. \n",
    "\n",
    "For example, if we set ngram_range=(1,2), we will create a bag of words model that includes both unigrams (single words) and bigrams (pairs of adjacent words)."
   ]
  },
  {
   "cell_type": "code",
   "execution_count": 24,
   "id": "b3bb6707",
   "metadata": {
    "id": "b3bb6707",
    "outputId": "c9d8a0f8-ac24-4ec5-e550-f40bf1e8e600"
   },
   "outputs": [
    {
     "name": "stdout",
     "output_type": "stream",
     "text": [
      "Number of features: 4123\n"
     ]
    }
   ],
   "source": [
    "# Initialize the vectorizer with n-gram range (1,2)\n",
    "ngram_vectorizer = CountVectorizer(stop_words='english', lowercase=True, ngram_range=(1,2))\n",
    "\n",
    "# Define the feature and target variables\n",
    "X = df_reviews_filter_preprocessed['review_body']\n",
    "y = np.where(df_reviews_filter_preprocessed['star_rating'] >= 4, 'Positive', 'Negative')\n",
    "\n",
    "# Fit the vectorizer on the preprocessed text\n",
    "ngram_vectorizer.fit(X)\n",
    "\n",
    "# Get the feature names (i.e., the words in the corpus)\n",
    "feature_names = list(ngram_vectorizer.vocabulary_.keys())\n",
    "\n",
    "X = ngram_vectorizer.transform(df_reviews_filter_preprocessed['review_body'])\n",
    "\n",
    "# Drop words that are too rare or too common\n",
    "from sklearn.feature_selection import VarianceThreshold\n",
    "selector = VarianceThreshold(threshold=0.001)\n",
    "X = selector.fit_transform(X)\n",
    "\n",
    "# Get the new feature names after dropping the irrelevant words\n",
    "feature_names = [feature_names[i] for i in selector.get_support(indices=True)]\n",
    "print('Number of features:', len(feature_names))\n",
    "\n",
    "# Split the data into training and testing sets\n",
    "X_train, X_test, y_train, y_test = train_test_split(X, y, test_size=0.2, random_state=42)"
   ]
  },
  {
   "cell_type": "markdown",
   "id": "3e9cbeb9",
   "metadata": {
    "id": "3e9cbeb9"
   },
   "source": [
    "### Multinomial Naive Bayes model (N-gram Word Model)"
   ]
  },
  {
   "cell_type": "code",
   "execution_count": 25,
   "id": "de93cc18",
   "metadata": {
    "id": "de93cc18",
    "outputId": "5f163c25-c404-482e-a19a-100c6a368707"
   },
   "outputs": [
    {
     "data": {
      "text/html": [
       "<style>#sk-container-id-3 {color: black;background-color: white;}#sk-container-id-3 pre{padding: 0;}#sk-container-id-3 div.sk-toggleable {background-color: white;}#sk-container-id-3 label.sk-toggleable__label {cursor: pointer;display: block;width: 100%;margin-bottom: 0;padding: 0.3em;box-sizing: border-box;text-align: center;}#sk-container-id-3 label.sk-toggleable__label-arrow:before {content: \"▸\";float: left;margin-right: 0.25em;color: #696969;}#sk-container-id-3 label.sk-toggleable__label-arrow:hover:before {color: black;}#sk-container-id-3 div.sk-estimator:hover label.sk-toggleable__label-arrow:before {color: black;}#sk-container-id-3 div.sk-toggleable__content {max-height: 0;max-width: 0;overflow: hidden;text-align: left;background-color: #f0f8ff;}#sk-container-id-3 div.sk-toggleable__content pre {margin: 0.2em;color: black;border-radius: 0.25em;background-color: #f0f8ff;}#sk-container-id-3 input.sk-toggleable__control:checked~div.sk-toggleable__content {max-height: 200px;max-width: 100%;overflow: auto;}#sk-container-id-3 input.sk-toggleable__control:checked~label.sk-toggleable__label-arrow:before {content: \"▾\";}#sk-container-id-3 div.sk-estimator input.sk-toggleable__control:checked~label.sk-toggleable__label {background-color: #d4ebff;}#sk-container-id-3 div.sk-label input.sk-toggleable__control:checked~label.sk-toggleable__label {background-color: #d4ebff;}#sk-container-id-3 input.sk-hidden--visually {border: 0;clip: rect(1px 1px 1px 1px);clip: rect(1px, 1px, 1px, 1px);height: 1px;margin: -1px;overflow: hidden;padding: 0;position: absolute;width: 1px;}#sk-container-id-3 div.sk-estimator {font-family: monospace;background-color: #f0f8ff;border: 1px dotted black;border-radius: 0.25em;box-sizing: border-box;margin-bottom: 0.5em;}#sk-container-id-3 div.sk-estimator:hover {background-color: #d4ebff;}#sk-container-id-3 div.sk-parallel-item::after {content: \"\";width: 100%;border-bottom: 1px solid gray;flex-grow: 1;}#sk-container-id-3 div.sk-label:hover label.sk-toggleable__label {background-color: #d4ebff;}#sk-container-id-3 div.sk-serial::before {content: \"\";position: absolute;border-left: 1px solid gray;box-sizing: border-box;top: 0;bottom: 0;left: 50%;z-index: 0;}#sk-container-id-3 div.sk-serial {display: flex;flex-direction: column;align-items: center;background-color: white;padding-right: 0.2em;padding-left: 0.2em;position: relative;}#sk-container-id-3 div.sk-item {position: relative;z-index: 1;}#sk-container-id-3 div.sk-parallel {display: flex;align-items: stretch;justify-content: center;background-color: white;position: relative;}#sk-container-id-3 div.sk-item::before, #sk-container-id-3 div.sk-parallel-item::before {content: \"\";position: absolute;border-left: 1px solid gray;box-sizing: border-box;top: 0;bottom: 0;left: 50%;z-index: -1;}#sk-container-id-3 div.sk-parallel-item {display: flex;flex-direction: column;z-index: 1;position: relative;background-color: white;}#sk-container-id-3 div.sk-parallel-item:first-child::after {align-self: flex-end;width: 50%;}#sk-container-id-3 div.sk-parallel-item:last-child::after {align-self: flex-start;width: 50%;}#sk-container-id-3 div.sk-parallel-item:only-child::after {width: 0;}#sk-container-id-3 div.sk-dashed-wrapped {border: 1px dashed gray;margin: 0 0.4em 0.5em 0.4em;box-sizing: border-box;padding-bottom: 0.4em;background-color: white;}#sk-container-id-3 div.sk-label label {font-family: monospace;font-weight: bold;display: inline-block;line-height: 1.2em;}#sk-container-id-3 div.sk-label-container {text-align: center;}#sk-container-id-3 div.sk-container {/* jupyter's `normalize.less` sets `[hidden] { display: none; }` but bootstrap.min.css set `[hidden] { display: none !important; }` so we also need the `!important` here to be able to override the default hidden behavior on the sphinx rendered scikit-learn.org. See: https://github.com/scikit-learn/scikit-learn/issues/21755 */display: inline-block !important;position: relative;}#sk-container-id-3 div.sk-text-repr-fallback {display: none;}</style><div id=\"sk-container-id-3\" class=\"sk-top-container\"><div class=\"sk-text-repr-fallback\"><pre>MultinomialNB()</pre><b>In a Jupyter environment, please rerun this cell to show the HTML representation or trust the notebook. <br />On GitHub, the HTML representation is unable to render, please try loading this page with nbviewer.org.</b></div><div class=\"sk-container\" hidden><div class=\"sk-item\"><div class=\"sk-estimator sk-toggleable\"><input class=\"sk-toggleable__control sk-hidden--visually\" id=\"sk-estimator-id-3\" type=\"checkbox\" checked><label for=\"sk-estimator-id-3\" class=\"sk-toggleable__label sk-toggleable__label-arrow\">MultinomialNB</label><div class=\"sk-toggleable__content\"><pre>MultinomialNB()</pre></div></div></div></div></div>"
      ],
      "text/plain": [
       "MultinomialNB()"
      ]
     },
     "execution_count": 25,
     "metadata": {},
     "output_type": "execute_result"
    }
   ],
   "source": [
    "# Train a classifier\n",
    "clf = MultinomialNB()\n",
    "clf.fit(X_train, y_train)"
   ]
  },
  {
   "cell_type": "code",
   "execution_count": 26,
   "id": "bfd7d03a",
   "metadata": {
    "id": "bfd7d03a",
    "outputId": "72b36da6-ef20-405d-8163-2cd1a03f733c"
   },
   "outputs": [
    {
     "name": "stdout",
     "output_type": "stream",
     "text": [
      "Accuracy: 0.86105\n",
      "              precision    recall  f1-score   support\n",
      "\n",
      "    Negative       0.69      0.63      0.66      4285\n",
      "    Positive       0.90      0.92      0.91     15715\n",
      "\n",
      "    accuracy                           0.86     20000\n",
      "   macro avg       0.80      0.78      0.79     20000\n",
      "weighted avg       0.86      0.86      0.86     20000\n",
      "\n"
     ]
    }
   ],
   "source": [
    "# Evaluate the classifier\n",
    "y_pred = clf.predict(X_test)\n",
    "print('Accuracy:', accuracy_score(y_test, y_pred))\n",
    "print(classification_report(y_test, y_pred))"
   ]
  },
  {
   "cell_type": "code",
   "execution_count": 27,
   "id": "aa093f49",
   "metadata": {
    "id": "aa093f49",
    "outputId": "f3df973b-de80-4265-846d-7da1a698db95"
   },
   "outputs": [
    {
     "name": "stdout",
     "output_type": "stream",
     "text": [
      "Cross-validation scores: [0.8566  0.8612  0.85745 0.85575 0.86025]\n",
      "Average score: 0.85825\n"
     ]
    }
   ],
   "source": [
    "# Perform cross-validation\n",
    "cv_scores = cross_val_score(clf, X, y, cv=5)\n",
    "\n",
    "# Print the average score\n",
    "print('Cross-validation scores:', cv_scores)\n",
    "print('Average score:', cv_scores.mean())"
   ]
  },
  {
   "cell_type": "markdown",
   "id": "d08648cb",
   "metadata": {
    "id": "d08648cb"
   },
   "source": [
    "### Deep Learning Models"
   ]
  },
  {
   "cell_type": "code",
   "execution_count": null,
   "id": "247b35c0",
   "metadata": {},
   "outputs": [],
   "source": [
    "import tensorflow as tf\n",
    "import tensorflow_hub as hub\n",
    "from tensorflow.keras.preprocessing.text import Tokenizer\n",
    "from tensorflow.keras.preprocessing.sequence import pad_sequences\n",
    "from tensorflow.keras.layers import Embedding, LSTM, Dense\n",
    "from tensorflow.keras.models import Sequential"
   ]
  },
  {
   "cell_type": "markdown",
   "id": "sVW-uqicLmv8",
   "metadata": {
    "id": "sVW-uqicLmv8"
   },
   "source": [
    "#### Word Embeddings"
   ]
  },
  {
   "cell_type": "markdown",
   "id": "fd48c37f",
   "metadata": {
    "id": "fd48c37f"
   },
   "source": [
    "We use the Universal Sentence Encoder to create sentence embeddings, which are then used as the input to the neural network. This approach removes the need for feature selection and allows the model to learn the most important features directly from the text data."
   ]
  },
  {
   "cell_type": "code",
   "execution_count": 44,
   "id": "e2a74645",
   "metadata": {
    "id": "e2a74645"
   },
   "outputs": [],
   "source": [
    "# Load the Universal Sentence Encoder\n",
    "model = hub.load('https://tfhub.dev/google/universal-sentence-encoder/4')\n",
    "\n",
    "# Define the feature and target variables\n",
    "X = df_reviews_filter_preprocessed['review_body']\n",
    "# Convert star_rating to the respective values for either 1 (4 and 5) or 0 (1, 2 and 3)\n",
    "y = np.where(df_reviews_filter_preprocessed['star_rating'] >= 4, 1, 0)"
   ]
  },
  {
   "cell_type": "markdown",
   "id": "IgdKG3wB8Eam",
   "metadata": {
    "id": "IgdKG3wB8Eam"
   },
   "source": [
    "We create sentence embeddings in batches of 1000 reviews at a time, rather than processing all reviews at once. This reduces memory usage and allows us to process large datasets efficiently."
   ]
  },
  {
   "cell_type": "code",
   "execution_count": 45,
   "id": "ZMcY69cQ78CO",
   "metadata": {
    "id": "ZMcY69cQ78CO"
   },
   "outputs": [],
   "source": [
    "# Create sentence embeddings using the Universal Sentence Encoder in batches\n",
    "batch_size = 1000\n",
    "embeddings = []\n",
    "for i in range(0, len(X), batch_size):\n",
    "    batch = X[i:i+batch_size]\n",
    "    batch_embeddings = model(batch)\n",
    "    embeddings.append(batch_embeddings)\n",
    "\n",
    "# Concatenate the batch embeddings\n",
    "embeddings = np.concatenate(embeddings)"
   ]
  },
  {
   "cell_type": "markdown",
   "id": "77975bfc",
   "metadata": {
    "id": "77975bfc"
   },
   "source": [
    "### Recurrent Neural Networks (Gated Recurrent Unit) \n"
   ]
  },
  {
   "cell_type": "code",
   "execution_count": 61,
   "id": "8hk4BhoM_9Qv",
   "metadata": {
    "id": "8hk4BhoM_9Qv"
   },
   "outputs": [],
   "source": [
    "from keras.layers import SpatialDropout1D\n",
    "from tensorflow.keras.layers import Flatten\n",
    "from keras.models import Sequential\n",
    "from keras.layers import Embedding, GlobalMaxPooling1D, Dense\n",
    "from tensorflow.keras.layers import Dropout"
   ]
  },
  {
   "cell_type": "code",
   "execution_count": 46,
   "id": "tBP74GKk1bDo",
   "metadata": {
    "id": "tBP74GKk1bDo"
   },
   "outputs": [],
   "source": [
    "# Split the data into training and testing sets\n",
    "X_train, X_test, y_train, y_test = train_test_split(embeddings, y, test_size=0.2, random_state=42)"
   ]
  },
  {
   "cell_type": "code",
   "execution_count": 52,
   "id": "0VoQX3-n1iuK",
   "metadata": {
    "colab": {
     "base_uri": "https://localhost:8080/"
    },
    "id": "0VoQX3-n1iuK",
    "outputId": "6387876f-006f-49a8-e96f-aa3263be16e3"
   },
   "outputs": [
    {
     "name": "stdout",
     "output_type": "stream",
     "text": [
      "Epoch 1/5\n",
      "2000/2000 [==============================] - 7s 3ms/step - loss: 0.3598 - accuracy: 0.8413 - val_loss: 0.3425 - val_accuracy: 0.8476\n",
      "Epoch 2/5\n",
      "2000/2000 [==============================] - 6s 3ms/step - loss: 0.3319 - accuracy: 0.8539 - val_loss: 0.3356 - val_accuracy: 0.8550\n",
      "Epoch 3/5\n",
      "2000/2000 [==============================] - 5s 3ms/step - loss: 0.3179 - accuracy: 0.8622 - val_loss: 0.3311 - val_accuracy: 0.8550\n",
      "Epoch 4/5\n",
      "2000/2000 [==============================] - 6s 3ms/step - loss: 0.3051 - accuracy: 0.8698 - val_loss: 0.3303 - val_accuracy: 0.8546\n",
      "Epoch 5/5\n",
      "2000/2000 [==============================] - 7s 3ms/step - loss: 0.2937 - accuracy: 0.8762 - val_loss: 0.3328 - val_accuracy: 0.8546\n",
      "625/625 [==============================] - 1s 2ms/step - loss: 0.3343 - accuracy: 0.8536\n",
      "Accuracy: 0.8536499738693237\n"
     ]
    }
   ],
   "source": [
    "# Define the model\n",
    "model = Sequential([\n",
    "    Dense(64, input_dim=embeddings.shape[1], activation='relu'),\n",
    "    Dense(32, activation='relu'),\n",
    "    Dense(1, activation='sigmoid')\n",
    "])\n",
    "\n",
    "# Compile the model\n",
    "model.compile(loss='binary_crossentropy', optimizer='adam', metrics=['accuracy'])\n",
    "\n",
    "# Train the model\n",
    "model.fit(X_train, y_train, validation_split=0.2, epochs=5, batch_size=32)\n",
    "\n",
    "# Evaluate the model\n",
    "loss, accuracy = model.evaluate(X_test, y_test)\n",
    "print(f'Accuracy: {accuracy}')"
   ]
  },
  {
   "cell_type": "markdown",
   "id": "UXJq4yRwNaUO",
   "metadata": {
    "id": "UXJq4yRwNaUO"
   },
   "source": [
    "### Recurrent Neural Networks (LSTM layers)"
   ]
  },
  {
   "cell_type": "code",
   "execution_count": 62,
   "id": "yUHiWvweNZDX",
   "metadata": {
    "colab": {
     "base_uri": "https://localhost:8080/"
    },
    "id": "yUHiWvweNZDX",
    "outputId": "fe2e5315-ea29-4ae0-99af-58a3f8183f33"
   },
   "outputs": [
    {
     "name": "stdout",
     "output_type": "stream",
     "text": [
      "Epoch 1/5\n",
      "2000/2000 [==============================] - 1025s 510ms/step - loss: 0.5223 - accuracy: 0.7848 - val_loss: 0.5213 - val_accuracy: 0.7801\n",
      "Epoch 2/5\n",
      "2000/2000 [==============================] - 1010s 505ms/step - loss: 0.5145 - accuracy: 0.7850 - val_loss: 0.5177 - val_accuracy: 0.7801\n",
      "Epoch 3/5\n",
      "2000/2000 [==============================] - 1010s 505ms/step - loss: 0.5119 - accuracy: 0.7850 - val_loss: 0.5140 - val_accuracy: 0.7801\n",
      "Epoch 4/5\n",
      "2000/2000 [==============================] - 1043s 521ms/step - loss: 0.5078 - accuracy: 0.7850 - val_loss: 0.5082 - val_accuracy: 0.7801\n",
      "Epoch 5/5\n",
      "2000/2000 [==============================] - 1008s 504ms/step - loss: 0.5114 - accuracy: 0.7850 - val_loss: 0.5096 - val_accuracy: 0.7801\n",
      "625/625 [==============================] - 95s 152ms/step - loss: 0.5038 - accuracy: 0.7857\n",
      "Accuracy: 0.7857499718666077\n"
     ]
    }
   ],
   "source": [
    "# Define the model\n",
    "model = Sequential([\n",
    "    LSTM(64, input_shape=(embeddings.shape[1], 1), return_sequences=True),\n",
    "    Dropout(0.2),\n",
    "    LSTM(32),\n",
    "    Dropout(0.2),\n",
    "    Dense(1, activation='sigmoid')\n",
    "])\n",
    "\n",
    "# Compile the model\n",
    "model.compile(loss='binary_crossentropy', optimizer='adam', metrics=['accuracy'])\n",
    "\n",
    "# Train the model\n",
    "model.fit(X_train.reshape(X_train.shape[0], X_train.shape[1], 1), y_train, validation_split=0.2, epochs=5, batch_size=32)\n",
    "\n",
    "# Evaluate the model\n",
    "loss, accuracy = model.evaluate(X_test.reshape(X_test.shape[0], X_test.shape[1], 1), y_test)\n",
    "print(f'Accuracy: {accuracy}')"
   ]
  },
  {
   "cell_type": "markdown",
   "id": "0f10508e",
   "metadata": {},
   "source": [
    "### Model Evaluation"
   ]
  },
  {
   "cell_type": "code",
   "execution_count": 32,
   "id": "97735a6f",
   "metadata": {},
   "outputs": [
    {
     "data": {
      "image/png": "[encoded data removed]",
      "text/plain": [
       "<Figure size 640x480 with 1 Axes>"
      ]
     },
     "metadata": {},
     "output_type": "display_data"
    }
   ],
   "source": [
    "import matplotlib.pyplot as plt\n",
    "import numpy as np\n",
    "\n",
    "# Define the accuracy values for each model\n",
    "bow_acc = 0.04\n",
    "ngram_acc = 0.86\n",
    "gru_acc = 0.85\n",
    "lstm_acc = 0.78\n",
    "\n",
    "# Create a bar plot of model accuracies\n",
    "models = ['Bag-of-Words', 'N-gram', 'RNN-GRU', 'RNN-LSTM']\n",
    "accuracy = [bow_acc, ngram_acc, gru_acc, lstm_acc]\n",
    "colors = ['red', 'blue', 'green', 'orange']\n",
    "\n",
    "plt.bar(models, accuracy, color=colors)\n",
    "plt.ylim([0.0, 1.0])\n",
    "plt.title('Model Comparison')\n",
    "plt.xlabel('Model')\n",
    "plt.ylabel('Accuracy')\n",
    "\n",
    "# Add y values to the plot\n",
    "for i, v in enumerate(accuracy):\n",
    "    plt.text(i, v+0.01, str(round(v, 2)), ha='center')\n",
    "\n",
    "plt.show()\n"
   ]
  }
 ],
 "metadata": {
  "colab": {
   "provenance": []
  },
  "kernelspec": {
   "display_name": "Python 3 (ipykernel)",
   "language": "python",
   "name": "python3"
  },
  "language_info": {
   "codemirror_mode": {
    "name": "ipython",
    "version": 3
   },
   "file_extension": ".py",
   "mimetype": "text/x-python",
   "name": "python",
   "nbconvert_exporter": "python",
   "pygments_lexer": "ipython3",
   "version": "3.11.1"
  }
 },
 "nbformat": 4,
 "nbformat_minor": 5
}
